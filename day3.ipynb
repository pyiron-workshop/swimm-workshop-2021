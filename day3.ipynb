{
 "cells": [
  {
   "cell_type": "markdown",
   "id": "chronic-dubai",
   "metadata": {},
   "source": [
    "# Day 3 - Beyond atomistics "
   ]
  },
  {
   "cell_type": "markdown",
   "id": "residential-excitement",
   "metadata": {},
   "source": [
    "## Implement your own class"
   ]
  },
  {
   "cell_type": "code",
   "execution_count": 1,
   "id": "primary-gardening",
   "metadata": {},
   "outputs": [],
   "source": [
    "from os.path import join\n",
    "from pyiron_base import TemplateJob, Project"
   ]
  },
  {
   "cell_type": "code",
   "execution_count": 2,
   "id": "mineral-faith",
   "metadata": {},
   "outputs": [],
   "source": [
    "class ToyJob(TemplateJob):\n",
    "    def __init__(self, project, job_name):\n",
    "        super().__init__(project, job_name) \n",
    "        self.input['input_energy'] = 100\n",
    "        self.executable = \"cat input > output\"\n",
    "\n",
    "    def write_input(self): \n",
    "        self.input.write_file( \n",
    "            file_name=\"input\",\n",
    "            cwd=self.working_directory\n",
    "        )\n",
    "\n",
    "    def collect_output(self):\n",
    "        file = join(self.working_directory, \"output\") \n",
    "        with open(file) as f:\n",
    "            line = f.readlines()[0]\n",
    "        energy = float(line.split()[1]) \n",
    "        with self.project_hdf5.open(\"output/generic\") as h5out: \n",
    "            h5out[\"energy_tot\"] = energy"
   ]
  },
  {
   "cell_type": "code",
   "execution_count": 3,
   "id": "opposed-purse",
   "metadata": {},
   "outputs": [],
   "source": [
    "pr = Project('test')"
   ]
  },
  {
   "cell_type": "code",
   "execution_count": 4,
   "id": "catholic-information",
   "metadata": {},
   "outputs": [],
   "source": [
    "job = pr.create_job(job_type=ToyJob, job_name=\"toy\")"
   ]
  },
  {
   "cell_type": "code",
   "execution_count": 5,
   "id": "falling-nightlife",
   "metadata": {},
   "outputs": [
    {
     "name": "stdout",
     "output_type": "stream",
     "text": [
      "The job toy was saved and received the ID: 265\n"
     ]
    }
   ],
   "source": [
    "job.run()"
   ]
  },
  {
   "cell_type": "code",
   "execution_count": 6,
   "id": "heavy-collective",
   "metadata": {},
   "outputs": [
    {
     "data": {
      "text/plain": [
       "100.0"
      ]
     },
     "execution_count": 6,
     "metadata": {},
     "output_type": "execute_result"
    }
   ],
   "source": [
    "job['output/generic/energy_tot']"
   ]
  },
  {
   "cell_type": "markdown",
   "id": "synthetic-programmer",
   "metadata": {},
   "source": [
    "https://github.com/jan-janssen/pyiron-cp2k\n",
    "https://github.com/jan-janssen/pyiron-quantum-espresso"
   ]
  },
  {
   "cell_type": "markdown",
   "id": "sunset-fitting",
   "metadata": {},
   "source": [
    "## Publish your workflow\n",
    "https://github.com/pyiron/pyiron-publication-template\n",
    "\n",
    "* https://github.com/pyiron/pyiron_meltingpoint\n",
    "* https://github.com/pyiron/pyiron_generalized_dipole\n",
    "* https://github.com/pyiron/pyiron_md_montecarlo\n",
    "* https://github.com/materialdigital/pyiron-workflow-TEMImageSegmentation\n",
    "* https://github.com/materialdigital/pyiron-workflow-damask"
   ]
  },
  {
   "cell_type": "markdown",
   "id": "brutal-procedure",
   "metadata": {},
   "source": [
    "## Open science \n",
    "* conda packages https://github.com/jan-janssen/conda-forge-contribution \n",
    "* general python packages https://github.com/pyiron https://github.com/pyiron/pysqa https://github.com/pyiron/pylammpsmpi \n",
    "* cloud environment for workshop https://hub.docker.com/u/pyiron https://github.com/pyiron/docker-stacks "
   ]
  },
  {
   "cell_type": "code",
   "execution_count": null,
   "id": "front-medline",
   "metadata": {},
   "outputs": [],
   "source": []
  }
 ],
 "metadata": {
  "kernelspec": {
   "display_name": "Python 3",
   "language": "python",
   "name": "python3"
  },
  "language_info": {
   "codemirror_mode": {
    "name": "ipython",
    "version": 3
   },
   "file_extension": ".py",
   "mimetype": "text/x-python",
   "name": "python",
   "nbconvert_exporter": "python",
   "pygments_lexer": "ipython3",
   "version": "3.9.2"
  }
 },
 "nbformat": 4,
 "nbformat_minor": 5
}
